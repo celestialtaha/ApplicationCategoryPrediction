{
 "cells": [
  {
   "cell_type": "code",
   "execution_count": 3,
   "metadata": {
    "execution": {
     "iopub.execute_input": "2021-06-20T14:24:07.713240Z",
     "iopub.status.busy": "2021-06-20T14:24:07.712824Z",
     "iopub.status.idle": "2021-06-20T14:24:07.872799Z",
     "shell.execute_reply": "2021-06-20T14:24:07.871954Z",
     "shell.execute_reply.started": "2021-06-20T14:24:07.713197Z"
    },
    "id": "MlL3dCNXMNx2"
   },
   "outputs": [],
   "source": [
    "# imports\n",
    "import tensorflow as tf\n",
    "import numpy as np\n",
    "import pandas as pd\n",
    "import os\n",
    "import re\n",
    "\n",
    "import gensim\n",
    "from gensim.test.utils import datapath\n",
    "from gensim.models.keyedvectors import KeyedVectors\n",
    "from sklearn.model_selection import train_test_split\n",
    "import matplotlib.pyplot as plt\n",
    "import tensorflow.keras as keras"
   ]
  },
  {
   "cell_type": "code",
   "execution_count": null,
   "metadata": {
    "id": "IwTL1tRlBCuM",
    "outputId": "cf61e90c-27a6-4788-c10c-ab977b04d81c"
   },
   "outputs": [],
   "source": [
    "!pip install stopwords_guilannlp\n",
    "!pip install transformers\n",
    "!pip install datasets"
   ]
  },
  {
   "cell_type": "code",
   "execution_count": null,
   "metadata": {},
   "outputs": [],
   "source": [
    "!unzip ./data.zip"
   ]
  },
  {
   "cell_type": "code",
   "execution_count": 4,
   "metadata": {
    "execution": {
     "iopub.execute_input": "2021-06-20T14:24:07.875082Z",
     "iopub.status.busy": "2021-06-20T14:24:07.874663Z",
     "iopub.status.idle": "2021-06-20T14:24:07.882413Z",
     "shell.execute_reply": "2021-06-20T14:24:07.881227Z",
     "shell.execute_reply.started": "2021-06-20T14:24:07.875045Z"
    },
    "id": "9QSa7wcB9wff"
   },
   "outputs": [],
   "source": [
    "def read_dataset(path='./data/', print_shapes = True):\n",
    "    # Load data\n",
    "    train = pd.read_csv(path + 'train_set.csv')\n",
    "    test = pd.read_csv(path + 'test_set.csv')\n",
    "\n",
    "    if print_shapes:\n",
    "        print()\n",
    "        print(\"Train dataset shape is : {}\".format(train.shape))\n",
    "        print(\"Test dataset shape is : {}\".format(test.shape))\n",
    "\n",
    "    return train, test"
   ]
  },
  {
   "cell_type": "code",
   "execution_count": 57,
   "metadata": {
    "execution": {
     "iopub.execute_input": "2021-06-20T15:49:57.102592Z",
     "iopub.status.busy": "2021-06-20T15:49:57.102271Z",
     "iopub.status.idle": "2021-06-20T15:49:57.677961Z",
     "shell.execute_reply": "2021-06-20T15:49:57.676852Z",
     "shell.execute_reply.started": "2021-06-20T15:49:57.102561Z"
    },
    "id": "vPeEpKhaGaqt",
    "outputId": "456f13c0-f9ac-4175-8ea0-0cbaa6495b19"
   },
   "outputs": [
    {
     "name": "stdout",
     "output_type": "stream",
     "text": [
      "\n",
      "Train dataset shape is : (37899, 3)\n",
      "Test dataset shape is : (10000, 2)\n"
     ]
    }
   ],
   "source": [
    "train_data, test_data = read_dataset(print_shapes=True)"
   ]
  },
  {
   "cell_type": "code",
   "execution_count": 6,
   "metadata": {
    "execution": {
     "iopub.execute_input": "2021-06-20T14:24:13.558172Z",
     "iopub.status.busy": "2021-06-20T14:24:13.557897Z",
     "iopub.status.idle": "2021-06-20T14:24:13.579529Z",
     "shell.execute_reply": "2021-06-20T14:24:13.578715Z",
     "shell.execute_reply.started": "2021-06-20T14:24:13.558144Z"
    },
    "id": "RPnp7kuu91_V",
    "outputId": "506df02c-a9c9-49c6-f829-15794e784db8"
   },
   "outputs": [
    {
     "data": {
      "text/html": [
       "<div>\n",
       "<style scoped>\n",
       "    .dataframe tbody tr th:only-of-type {\n",
       "        vertical-align: middle;\n",
       "    }\n",
       "\n",
       "    .dataframe tbody tr th {\n",
       "        vertical-align: top;\n",
       "    }\n",
       "\n",
       "    .dataframe thead th {\n",
       "        text-align: right;\n",
       "    }\n",
       "</style>\n",
       "<table border=\"1\" class=\"dataframe\">\n",
       "  <thead>\n",
       "    <tr style=\"text-align: right;\">\n",
       "      <th></th>\n",
       "      <th>app_id</th>\n",
       "      <th>description_fa</th>\n",
       "      <th>label</th>\n",
       "    </tr>\n",
       "  </thead>\n",
       "  <tbody>\n",
       "    <tr>\n",
       "      <th>0</th>\n",
       "      <td>0</td>\n",
       "      <td>&lt;p&gt;بازی مین روب یک برنامه فکری است که باید مین...</td>\n",
       "      <td>1</td>\n",
       "    </tr>\n",
       "    <tr>\n",
       "      <th>1</th>\n",
       "      <td>1</td>\n",
       "      <td>&lt;p&gt;دراین بازی تعدادی عکس برای شما نشان داده می...</td>\n",
       "      <td>1</td>\n",
       "    </tr>\n",
       "    <tr>\n",
       "      <th>2</th>\n",
       "      <td>2</td>\n",
       "      <td>&lt;br&gt;تلاش نافرجام برای درک «بوفالو»&lt;br&gt;مرگ پایا...</td>\n",
       "      <td>7</td>\n",
       "    </tr>\n",
       "    <tr>\n",
       "      <th>3</th>\n",
       "      <td>3</td>\n",
       "      <td>&lt;p&gt;فیلم نما ، برنامه ای برای دانلود و پخش آنلا...</td>\n",
       "      <td>7</td>\n",
       "    </tr>\n",
       "    <tr>\n",
       "      <th>4</th>\n",
       "      <td>4</td>\n",
       "      <td>&lt;p&gt;* این برنامه حاوی بیش از 500 عکس و ژست برای...</td>\n",
       "      <td>7</td>\n",
       "    </tr>\n",
       "  </tbody>\n",
       "</table>\n",
       "</div>"
      ],
      "text/plain": [
       "   app_id                                     description_fa  label\n",
       "0       0  <p>بازی مین روب یک برنامه فکری است که باید مین...      1\n",
       "1       1  <p>دراین بازی تعدادی عکس برای شما نشان داده می...      1\n",
       "2       2  <br>تلاش نافرجام برای درک «بوفالو»<br>مرگ پایا...      7\n",
       "3       3  <p>فیلم نما ، برنامه ای برای دانلود و پخش آنلا...      7\n",
       "4       4  <p>* این برنامه حاوی بیش از 500 عکس و ژست برای...      7"
      ]
     },
     "execution_count": 6,
     "metadata": {},
     "output_type": "execute_result"
    }
   ],
   "source": [
    "train_data.head()"
   ]
  },
  {
   "cell_type": "code",
   "execution_count": 7,
   "metadata": {
    "execution": {
     "iopub.execute_input": "2021-06-20T14:24:13.581231Z",
     "iopub.status.busy": "2021-06-20T14:24:13.580907Z",
     "iopub.status.idle": "2021-06-20T14:24:13.589407Z",
     "shell.execute_reply": "2021-06-20T14:24:13.588371Z",
     "shell.execute_reply.started": "2021-06-20T14:24:13.581196Z"
    },
    "id": "H_DPVAuB-D6c",
    "outputId": "8bd470b6-c309-4da8-feb1-41af40d68e9c"
   },
   "outputs": [
    {
     "data": {
      "text/html": [
       "<div>\n",
       "<style scoped>\n",
       "    .dataframe tbody tr th:only-of-type {\n",
       "        vertical-align: middle;\n",
       "    }\n",
       "\n",
       "    .dataframe tbody tr th {\n",
       "        vertical-align: top;\n",
       "    }\n",
       "\n",
       "    .dataframe thead th {\n",
       "        text-align: right;\n",
       "    }\n",
       "</style>\n",
       "<table border=\"1\" class=\"dataframe\">\n",
       "  <thead>\n",
       "    <tr style=\"text-align: right;\">\n",
       "      <th></th>\n",
       "      <th>app_id</th>\n",
       "      <th>description_fa</th>\n",
       "    </tr>\n",
       "  </thead>\n",
       "  <tbody>\n",
       "    <tr>\n",
       "      <th>0</th>\n",
       "      <td>40000</td>\n",
       "      <td>&lt;h4&gt;در این برنامه یکی از بازی های جالب میکرو ر...</td>\n",
       "    </tr>\n",
       "    <tr>\n",
       "      <th>1</th>\n",
       "      <td>40001</td>\n",
       "      <td>&lt;p&gt;بازی آموزشی میلونر زبان انگلیسی برای تقویت ...</td>\n",
       "    </tr>\n",
       "    <tr>\n",
       "      <th>2</th>\n",
       "      <td>40002</td>\n",
       "      <td>&lt;p&gt; &lt;b&gt;موضوع رو می بینی و کلمات رو پیدا می کنی...</td>\n",
       "    </tr>\n",
       "    <tr>\n",
       "      <th>3</th>\n",
       "      <td>40003</td>\n",
       "      <td>&lt;p&gt;نرم افزار فول تلگرام در کنار تلگرام امكانات...</td>\n",
       "    </tr>\n",
       "    <tr>\n",
       "      <th>4</th>\n",
       "      <td>40004</td>\n",
       "      <td>&lt;p&gt; فکر می کنی خیلی سریع هستی نه؟        &lt;br&gt; ...</td>\n",
       "    </tr>\n",
       "  </tbody>\n",
       "</table>\n",
       "</div>"
      ],
      "text/plain": [
       "   app_id                                     description_fa\n",
       "0   40000  <h4>در این برنامه یکی از بازی های جالب میکرو ر...\n",
       "1   40001  <p>بازی آموزشی میلونر زبان انگلیسی برای تقویت ...\n",
       "2   40002  <p> <b>موضوع رو می بینی و کلمات رو پیدا می کنی...\n",
       "3   40003  <p>نرم افزار فول تلگرام در کنار تلگرام امكانات...\n",
       "4   40004  <p> فکر می کنی خیلی سریع هستی نه؟        <br> ..."
      ]
     },
     "execution_count": 7,
     "metadata": {},
     "output_type": "execute_result"
    }
   ],
   "source": [
    "test_data.head()"
   ]
  },
  {
   "cell_type": "code",
   "execution_count": 58,
   "metadata": {
    "execution": {
     "iopub.execute_input": "2021-06-20T15:50:01.879404Z",
     "iopub.status.busy": "2021-06-20T15:50:01.879014Z",
     "iopub.status.idle": "2021-06-20T15:50:13.206070Z",
     "shell.execute_reply": "2021-06-20T15:50:13.205224Z",
     "shell.execute_reply.started": "2021-06-20T15:50:01.879373Z"
    },
    "id": "n6djLdG9-UD9"
   },
   "outputs": [],
   "source": [
    "def clean_text(dataframe,text_field):\n",
    "\n",
    "    df = dataframe.copy()\n",
    "    # Lower case english letters\n",
    "    df[text_field] = df[text_field].str.lower()\n",
    "    # clean html tags of <br><br/> and also \\/ signs\n",
    "    #df[text_field] = df[text_field].str.replace(r\"(<br\\s*/><br\\s*/>)|(\\-)|(\\/)\", \" \")\n",
    "\n",
    "    cleanr = re.compile('<.*?>')\n",
    "    df[text_field] = df[text_field].str.replace(cleanr, \" \")\n",
    "    df[text_field] = df[text_field].str.replace(r\"\\n\",\" \")\n",
    "    # clean http word\n",
    "    df[text_field] = df[text_field].str.replace(r\"http\\S+\",\" \")\n",
    "    # clean numbers and english letters\n",
    "    df[text_field] = df[text_field].str.replace(r\"[0-9]\", \" \")\n",
    "    df[text_field] = df[text_field].str.replace(r\"[۰۱۲۳۴۵۶۷۸۹]\", \" \")\n",
    "    df[text_field] = df[text_field].str.replace(r\"[a-z]\", \" \")\n",
    "    # remove emojis and other wierd stuff\n",
    "    wierd_pattern = re.compile(\"[\"\n",
    "        u\"\\U0001F600-\\U0001F64F\"  # emoticons\n",
    "        u\"\\U0001F300-\\U0001F5FF\"  # symbols & pictographs\n",
    "        u\"\\U0001F680-\\U0001F6FF\"  # transport & map symbols\n",
    "        u\"\\U0001F1E0-\\U0001F1FF\"  # flags (iOS)\n",
    "        u\"\\U00002702-\\U000027B0\"\n",
    "        u\"\\U000024C2-\\U0001F251\"\n",
    "        u\"\\U0001f926-\\U0001f937\"\n",
    "        u'\\U00010000-\\U0010ffff'\n",
    "        u\"\\u200d\"\n",
    "        u\"\\u2640-\\u2642\"\n",
    "        u\"\\u2600-\\u2B55\"\n",
    "        u\"\\u23cf\"\n",
    "        u\"\\u23e9\"\n",
    "        u\"\\u231a\"\n",
    "        u\"\\u3030\"\n",
    "        u\"\\ufe0f\"\n",
    "        #u\"\\u200c\"\n",
    "        u\"\\u2069\"\n",
    "        u\"\\u2066\"\n",
    "        u\"\\u2068\"\n",
    "        u\"\\u2067\"\n",
    "        \"]+\", flags=re.UNICODE)\n",
    "\n",
    "    df[text_field] = df[text_field].str.replace(wierd_pattern, \" \")\n",
    "\n",
    "    df[text_field] = df[text_field].str.replace(r\"[\\.+ \\…]\", \" \")\n",
    "    # remove all of punctuation    \n",
    "    df[text_field] = df[text_field].str.replace(\"[«»–=.;،:!\\'?؟,\\\"_()&\\[\\]@]\",\" \")\n",
    "    df[text_field] = df[text_field].str.replace(\"؛\",\" \")\n",
    "    # finally remove two spaces or more\n",
    "    df[text_field] = df[text_field].str.replace(r\"\\s+\", \" \")\n",
    "\n",
    "    return df\n",
    "\n",
    "# preprocess and clean text\n",
    "df_train = clean_text(train_data,\"description_fa\")\n",
    "df_test = clean_text(test_data,\"description_fa\")\n",
    "\n",
    "\n",
    "y_train = df_train['label'].copy()"
   ]
  },
  {
   "cell_type": "code",
   "execution_count": 9,
   "metadata": {
    "execution": {
     "iopub.execute_input": "2021-06-20T14:24:25.166089Z",
     "iopub.status.busy": "2021-06-20T14:24:25.165739Z",
     "iopub.status.idle": "2021-06-20T14:24:25.341991Z",
     "shell.execute_reply": "2021-06-20T14:24:25.341023Z",
     "shell.execute_reply.started": "2021-06-20T14:24:25.166053Z"
    },
    "id": "FbLunVhc0dk0",
    "outputId": "113aef86-bb0b-4011-a6f6-fb61927ea9e9"
   },
   "outputs": [
    {
     "data": {
      "image/png": "[encoded data removed]",
      "text/plain": [
       "<Figure size 864x432 with 1 Axes>"
      ]
     },
     "metadata": {
      "needs_background": "light"
     },
     "output_type": "display_data"
    }
   ],
   "source": [
    "plt.figure(figsize=(12,6))\n",
    "plt.bar(*np.unique(y_train,return_counts=True))\n",
    "plt.title(\"Class sample Distribution\")\n",
    "plt.show()"
   ]
  },
  {
   "cell_type": "code",
   "execution_count": 59,
   "metadata": {
    "execution": {
     "iopub.execute_input": "2021-06-20T15:50:13.207774Z",
     "iopub.status.busy": "2021-06-20T15:50:13.207459Z",
     "iopub.status.idle": "2021-06-20T15:50:19.517564Z",
     "shell.execute_reply": "2021-06-20T15:50:19.516604Z",
     "shell.execute_reply.started": "2021-06-20T15:50:13.207740Z"
    }
   },
   "outputs": [
    {
     "name": "stdout",
     "output_type": "stream",
     "text": [
      "Requirement already satisfied: parsivar in /opt/conda/lib/python3.7/site-packages (0.2.3)\n",
      "Requirement already satisfied: nltk==3.4.5 in /opt/conda/lib/python3.7/site-packages (from parsivar) (3.4.5)\n",
      "Requirement already satisfied: six in /opt/conda/lib/python3.7/site-packages (from nltk==3.4.5->parsivar) (1.15.0)\n"
     ]
    }
   ],
   "source": [
    "!pip install parsivar\n",
    "from parsivar import Normalizer\n",
    "from parsivar import Tokenizer\n",
    "from parsivar import FindStems\n",
    "from stopwords_guilannlp import stopwords_output\n",
    "\n",
    "\n",
    "tokenizer = Tokenizer()\n",
    "normalizer = Normalizer()\n",
    "stopwords = stopwords_output(\"Persian\", \"nar\")"
   ]
  },
  {
   "cell_type": "code",
   "execution_count": null,
   "metadata": {},
   "outputs": [],
   "source": [
    "def create_string(listin):\n",
    "    st=\"\"\n",
    "    for i in range(len(listin)):\n",
    "        st=st+listin[i]+\" \"\n",
    "    return st\n",
    "\n",
    "def tokenize_remove_stopwords(x):\n",
    "  y = tokenizer.tokenize_words(normalizer.normalize(x))\n",
    "  return [word for word in y if not word in stopwords]\n",
    "\n",
    "def preprocess(dataframe):\n",
    "    df = dataframe.copy()\n",
    "    df['description_fa'] = df['description_fa'].apply(tokenize_remove_stopwords)\n",
    "    df['description_fa'] = df['description_fa'].apply(create_string)\n",
    "    return df\n",
    "\n",
    "df_train = preprocess(df_train)\n",
    "df_test = preprocess(df_test)"
   ]
  },
  {
   "cell_type": "code",
   "execution_count": 15,
   "metadata": {
    "execution": {
     "iopub.execute_input": "2021-06-20T14:32:56.058321Z",
     "iopub.status.busy": "2021-06-20T14:32:56.057827Z",
     "iopub.status.idle": "2021-06-20T14:32:56.082804Z",
     "shell.execute_reply": "2021-06-20T14:32:56.081983Z",
     "shell.execute_reply.started": "2021-06-20T14:32:56.058275Z"
    }
   },
   "outputs": [
    {
     "data": {
      "text/html": [
       "<div>\n",
       "<style scoped>\n",
       "    .dataframe tbody tr th:only-of-type {\n",
       "        vertical-align: middle;\n",
       "    }\n",
       "\n",
       "    .dataframe tbody tr th {\n",
       "        vertical-align: top;\n",
       "    }\n",
       "\n",
       "    .dataframe thead th {\n",
       "        text-align: right;\n",
       "    }\n",
       "</style>\n",
       "<table border=\"1\" class=\"dataframe\">\n",
       "  <thead>\n",
       "    <tr style=\"text-align: right;\">\n",
       "      <th></th>\n",
       "      <th>app_id</th>\n",
       "      <th>description_fa</th>\n",
       "      <th>label</th>\n",
       "    </tr>\n",
       "  </thead>\n",
       "  <tbody>\n",
       "    <tr>\n",
       "      <th>0</th>\n",
       "      <td>0</td>\n",
       "      <td>بازی مین برنامه فکری مین‌های موجود صفحه بازی ک...</td>\n",
       "      <td>1</td>\n",
       "    </tr>\n",
       "    <tr>\n",
       "      <th>1</th>\n",
       "      <td>1</td>\n",
       "      <td>دراین بازی عکس خاطر سپرده جواب پرسش‌های متداول...</td>\n",
       "      <td>1</td>\n",
       "    </tr>\n",
       "    <tr>\n",
       "      <th>2</th>\n",
       "      <td>2</td>\n",
       "      <td>تلاش نافرجام درک بوفالو مرگ پایان ماجرا آنجاست...</td>\n",
       "      <td>7</td>\n",
       "    </tr>\n",
       "    <tr>\n",
       "      <th>3</th>\n",
       "      <td>3</td>\n",
       "      <td>فیلم نما برنامه‌ای دانلود پخش آنلاین فیلم سریا...</td>\n",
       "      <td>7</td>\n",
       "    </tr>\n",
       "    <tr>\n",
       "      <th>4</th>\n",
       "      <td>4</td>\n",
       "      <td>برنامه حاوی عکس ژست مدل عکاسی شدنه کتاب مدل‌ها...</td>\n",
       "      <td>7</td>\n",
       "    </tr>\n",
       "  </tbody>\n",
       "</table>\n",
       "</div>"
      ],
      "text/plain": [
       "   app_id                                     description_fa  label\n",
       "0       0  بازی مین برنامه فکری مین‌های موجود صفحه بازی ک...      1\n",
       "1       1  دراین بازی عکس خاطر سپرده جواب پرسش‌های متداول...      1\n",
       "2       2  تلاش نافرجام درک بوفالو مرگ پایان ماجرا آنجاست...      7\n",
       "3       3  فیلم نما برنامه‌ای دانلود پخش آنلاین فیلم سریا...      7\n",
       "4       4  برنامه حاوی عکس ژست مدل عکاسی شدنه کتاب مدل‌ها...      7"
      ]
     },
     "execution_count": 15,
     "metadata": {},
     "output_type": "execute_result"
    }
   ],
   "source": [
    "df_train.head()"
   ]
  },
  {
   "cell_type": "code",
   "execution_count": null,
   "metadata": {
    "execution": {
     "iopub.status.busy": "2021-06-20T15:51:04.773232Z",
     "iopub.status.idle": "2021-06-20T15:51:04.773800Z"
    }
   },
   "outputs": [],
   "source": [
    "classes = sorted(map(int, df_train['label'].unique()))\n",
    "print(classes)"
   ]
  },
  {
   "cell_type": "code",
   "execution_count": 63,
   "metadata": {
    "execution": {
     "iopub.execute_input": "2021-06-20T15:51:44.070142Z",
     "iopub.status.busy": "2021-06-20T15:51:44.069787Z",
     "iopub.status.idle": "2021-06-20T15:51:46.624533Z",
     "shell.execute_reply": "2021-06-20T15:51:46.623668Z",
     "shell.execute_reply.started": "2021-06-20T15:51:44.070110Z"
    },
    "id": "SIUxwMreYsBT",
    "outputId": "6b9276c0-2d33-4fef-a495-681c3851bdd3"
   },
   "outputs": [],
   "source": [
    "from transformers import AutoTokenizer , BertConfig\n",
    "\n",
    "config = BertConfig.from_pretrained(\n",
    "    \"HooshvareLab/bert-fa-base-uncased\", **{\n",
    "        'label2id': classes,\n",
    "        'id2label': classes,\n",
    "    })\n",
    "\n",
    "tokenizer = AutoTokenizer.from_pretrained(\"HooshvareLab/bert-fa-base-uncased\")"
   ]
  },
  {
   "cell_type": "code",
   "execution_count": 64,
   "metadata": {
    "execution": {
     "iopub.execute_input": "2021-06-20T15:51:46.840823Z",
     "iopub.status.busy": "2021-06-20T15:51:46.840506Z",
     "iopub.status.idle": "2021-06-20T15:51:46.847584Z",
     "shell.execute_reply": "2021-06-20T15:51:46.846340Z",
     "shell.execute_reply.started": "2021-06-20T15:51:46.840793Z"
    },
    "id": "T4XkC-FwYiWt"
   },
   "outputs": [],
   "source": [
    "def tokenize(x):\n",
    "    y = tokenizer(x, padding=\"max_length\", max_length=150, truncation=True)\n",
    "    return y\n",
    "\n",
    "def input_ids(x):\n",
    "    return np.asarray(x['input_ids'])\n",
    "def attention_mask(x):\n",
    "    return np.asarray(x['attention_mask'])\n",
    "def token_type_ids(x):\n",
    "    return np.asarray(x['token_type_ids'])\n",
    "  \n",
    "def preprocess(dataframe):\n",
    "    df = dataframe.copy()\n",
    "    df['inputs'] = df['description_fa'].apply(tokenize)\n",
    "    df['input_ids'] = df['inputs'].apply(input_ids)\n",
    "    df['attention_mask'] =  df['inputs'].apply(attention_mask)\n",
    "    # below is not needed for distilbert!\n",
    "    df['token_type_ids'] =  df['inputs'].apply(token_type_ids)\n",
    "\n",
    "    return df"
   ]
  },
  {
   "cell_type": "code",
   "execution_count": 65,
   "metadata": {
    "execution": {
     "iopub.execute_input": "2021-06-20T15:51:47.609708Z",
     "iopub.status.busy": "2021-06-20T15:51:47.609373Z",
     "iopub.status.idle": "2021-06-20T15:52:16.277368Z",
     "shell.execute_reply": "2021-06-20T15:52:16.276492Z",
     "shell.execute_reply.started": "2021-06-20T15:51:47.609679Z"
    },
    "id": "BKAq3j_8Zzsm"
   },
   "outputs": [],
   "source": [
    "# Word level tokenization and stop words removal\n",
    "df_train_final = preprocess(df_train)\n",
    "df_test_final = preprocess(df_test)"
   ]
  },
  {
   "cell_type": "code",
   "execution_count": 34,
   "metadata": {
    "execution": {
     "iopub.execute_input": "2021-06-20T14:40:17.120453Z",
     "iopub.status.busy": "2021-06-20T14:40:17.120132Z",
     "iopub.status.idle": "2021-06-20T14:40:17.161874Z",
     "shell.execute_reply": "2021-06-20T14:40:17.161125Z",
     "shell.execute_reply.started": "2021-06-20T14:40:17.120424Z"
    },
    "id": "l9WvFie2gSJG",
    "outputId": "100c74cd-fa8d-4278-f114-0e41c9fa4a74"
   },
   "outputs": [
    {
     "data": {
      "text/html": [
       "<div>\n",
       "<style scoped>\n",
       "    .dataframe tbody tr th:only-of-type {\n",
       "        vertical-align: middle;\n",
       "    }\n",
       "\n",
       "    .dataframe tbody tr th {\n",
       "        vertical-align: top;\n",
       "    }\n",
       "\n",
       "    .dataframe thead th {\n",
       "        text-align: right;\n",
       "    }\n",
       "</style>\n",
       "<table border=\"1\" class=\"dataframe\">\n",
       "  <thead>\n",
       "    <tr style=\"text-align: right;\">\n",
       "      <th></th>\n",
       "      <th>app_id</th>\n",
       "      <th>description_fa</th>\n",
       "      <th>label</th>\n",
       "      <th>inputs</th>\n",
       "      <th>input_ids</th>\n",
       "      <th>attention_mask</th>\n",
       "      <th>token_type_ids</th>\n",
       "    </tr>\n",
       "  </thead>\n",
       "  <tbody>\n",
       "    <tr>\n",
       "      <th>0</th>\n",
       "      <td>0</td>\n",
       "      <td>بازی مین برنامه فکری مین‌های موجود صفحه بازی ک...</td>\n",
       "      <td>1</td>\n",
       "      <td>[input_ids, token_type_ids, attention_mask]</td>\n",
       "      <td>[2, 3057, 3800, 3329, 7182, 50574, 3731, 4863,...</td>\n",
       "      <td>[1, 1, 1, 1, 1, 1, 1, 1, 1, 1, 1, 1, 1, 1, 1, ...</td>\n",
       "      <td>[0, 0, 0, 0, 0, 0, 0, 0, 0, 0, 0, 0, 0, 0, 0, ...</td>\n",
       "    </tr>\n",
       "    <tr>\n",
       "      <th>1</th>\n",
       "      <td>1</td>\n",
       "      <td>دراین بازی عکس خاطر سپرده جواب پرسش‌های متداول...</td>\n",
       "      <td>1</td>\n",
       "      <td>[input_ids, token_type_ids, attention_mask]</td>\n",
       "      <td>[2, 9111, 3057, 4655, 3804, 5340, 6173, 17092,...</td>\n",
       "      <td>[1, 1, 1, 1, 1, 1, 1, 1, 1, 1, 1, 1, 1, 1, 1, ...</td>\n",
       "      <td>[0, 0, 0, 0, 0, 0, 0, 0, 0, 0, 0, 0, 0, 0, 0, ...</td>\n",
       "    </tr>\n",
       "    <tr>\n",
       "      <th>2</th>\n",
       "      <td>2</td>\n",
       "      <td>تلاش نافرجام درک بوفالو مرگ پایان ماجرا آنجاست...</td>\n",
       "      <td>7</td>\n",
       "      <td>[input_ids, token_type_ids, attention_mask]</td>\n",
       "      <td>[2, 3743, 23329, 5520, 36172, 4128, 3559, 6518...</td>\n",
       "      <td>[1, 1, 1, 1, 1, 1, 1, 1, 1, 1, 1, 1, 1, 1, 1, ...</td>\n",
       "      <td>[0, 0, 0, 0, 0, 0, 0, 0, 0, 0, 0, 0, 0, 0, 0, ...</td>\n",
       "    </tr>\n",
       "    <tr>\n",
       "      <th>3</th>\n",
       "      <td>3</td>\n",
       "      <td>فیلم نما برنامه‌ای دانلود پخش آنلاین فیلم سریا...</td>\n",
       "      <td>7</td>\n",
       "      <td>[input_ids, token_type_ids, attention_mask]</td>\n",
       "      <td>[2, 3169, 13248, 8503, 7510, 4751, 5442, 3169,...</td>\n",
       "      <td>[1, 1, 1, 1, 1, 1, 1, 1, 1, 1, 1, 1, 1, 1, 1, ...</td>\n",
       "      <td>[0, 0, 0, 0, 0, 0, 0, 0, 0, 0, 0, 0, 0, 0, 0, ...</td>\n",
       "    </tr>\n",
       "    <tr>\n",
       "      <th>4</th>\n",
       "      <td>4</td>\n",
       "      <td>برنامه حاوی عکس ژست مدل عکاسی شدنه کتاب مدل‌ها...</td>\n",
       "      <td>7</td>\n",
       "      <td>[input_ids, token_type_ids, attention_mask]</td>\n",
       "      <td>[2, 3329, 6037, 4655, 26193, 3945, 7897, 3322,...</td>\n",
       "      <td>[1, 1, 1, 1, 1, 1, 1, 1, 1, 1, 1, 1, 1, 1, 1, ...</td>\n",
       "      <td>[0, 0, 0, 0, 0, 0, 0, 0, 0, 0, 0, 0, 0, 0, 0, ...</td>\n",
       "    </tr>\n",
       "  </tbody>\n",
       "</table>\n",
       "</div>"
      ],
      "text/plain": [
       "   app_id                                     description_fa  label  \\\n",
       "0       0  بازی مین برنامه فکری مین‌های موجود صفحه بازی ک...      1   \n",
       "1       1  دراین بازی عکس خاطر سپرده جواب پرسش‌های متداول...      1   \n",
       "2       2  تلاش نافرجام درک بوفالو مرگ پایان ماجرا آنجاست...      7   \n",
       "3       3  فیلم نما برنامه‌ای دانلود پخش آنلاین فیلم سریا...      7   \n",
       "4       4  برنامه حاوی عکس ژست مدل عکاسی شدنه کتاب مدل‌ها...      7   \n",
       "\n",
       "                                        inputs  \\\n",
       "0  [input_ids, token_type_ids, attention_mask]   \n",
       "1  [input_ids, token_type_ids, attention_mask]   \n",
       "2  [input_ids, token_type_ids, attention_mask]   \n",
       "3  [input_ids, token_type_ids, attention_mask]   \n",
       "4  [input_ids, token_type_ids, attention_mask]   \n",
       "\n",
       "                                           input_ids  \\\n",
       "0  [2, 3057, 3800, 3329, 7182, 50574, 3731, 4863,...   \n",
       "1  [2, 9111, 3057, 4655, 3804, 5340, 6173, 17092,...   \n",
       "2  [2, 3743, 23329, 5520, 36172, 4128, 3559, 6518...   \n",
       "3  [2, 3169, 13248, 8503, 7510, 4751, 5442, 3169,...   \n",
       "4  [2, 3329, 6037, 4655, 26193, 3945, 7897, 3322,...   \n",
       "\n",
       "                                      attention_mask  \\\n",
       "0  [1, 1, 1, 1, 1, 1, 1, 1, 1, 1, 1, 1, 1, 1, 1, ...   \n",
       "1  [1, 1, 1, 1, 1, 1, 1, 1, 1, 1, 1, 1, 1, 1, 1, ...   \n",
       "2  [1, 1, 1, 1, 1, 1, 1, 1, 1, 1, 1, 1, 1, 1, 1, ...   \n",
       "3  [1, 1, 1, 1, 1, 1, 1, 1, 1, 1, 1, 1, 1, 1, 1, ...   \n",
       "4  [1, 1, 1, 1, 1, 1, 1, 1, 1, 1, 1, 1, 1, 1, 1, ...   \n",
       "\n",
       "                                      token_type_ids  \n",
       "0  [0, 0, 0, 0, 0, 0, 0, 0, 0, 0, 0, 0, 0, 0, 0, ...  \n",
       "1  [0, 0, 0, 0, 0, 0, 0, 0, 0, 0, 0, 0, 0, 0, 0, ...  \n",
       "2  [0, 0, 0, 0, 0, 0, 0, 0, 0, 0, 0, 0, 0, 0, 0, ...  \n",
       "3  [0, 0, 0, 0, 0, 0, 0, 0, 0, 0, 0, 0, 0, 0, 0, ...  \n",
       "4  [0, 0, 0, 0, 0, 0, 0, 0, 0, 0, 0, 0, 0, 0, 0, ...  "
      ]
     },
     "execution_count": 34,
     "metadata": {},
     "output_type": "execute_result"
    }
   ],
   "source": [
    "df_train_final.head()"
   ]
  },
  {
   "cell_type": "code",
   "execution_count": 66,
   "metadata": {
    "execution": {
     "iopub.execute_input": "2021-06-20T15:52:16.284762Z",
     "iopub.status.busy": "2021-06-20T15:52:16.284495Z",
     "iopub.status.idle": "2021-06-20T15:52:16.329093Z",
     "shell.execute_reply": "2021-06-20T15:52:16.328314Z",
     "shell.execute_reply.started": "2021-06-20T15:52:16.284737Z"
    }
   },
   "outputs": [],
   "source": [
    "df_train_final, df_valid = train_test_split(df_train_final, test_size=0.05, stratify=df_train_final['label'])"
   ]
  },
  {
   "cell_type": "code",
   "execution_count": 67,
   "metadata": {
    "execution": {
     "iopub.execute_input": "2021-06-20T15:52:16.331235Z",
     "iopub.status.busy": "2021-06-20T15:52:16.330858Z",
     "iopub.status.idle": "2021-06-20T15:52:19.299513Z",
     "shell.execute_reply": "2021-06-20T15:52:19.298701Z",
     "shell.execute_reply.started": "2021-06-20T15:52:16.331200Z"
    },
    "id": "cn-9iAQYM_0b"
   },
   "outputs": [],
   "source": [
    "train_features = {x: tf.convert_to_tensor(list(df_train_final[x])) for x in tokenizer.model_input_names}\n",
    "train_tf_dataset = tf.data.Dataset.from_tensor_slices((train_features, df_train_final['label']))\n",
    "train_tf_dataset = train_tf_dataset.shuffle(len(train_tf_dataset)).batch(8)\n",
    "\n",
    "valid_features = {x: tf.convert_to_tensor(list(df_valid[x])) for x in tokenizer.model_input_names}\n",
    "valid_tf_dataset = tf.data.Dataset.from_tensor_slices((valid_features, df_valid['label']))\n",
    "valid_tf_dataset = valid_tf_dataset.shuffle(len(valid_tf_dataset)).batch(8)"
   ]
  },
  {
   "cell_type": "code",
   "execution_count": 68,
   "metadata": {
    "execution": {
     "iopub.execute_input": "2021-06-20T15:52:19.301295Z",
     "iopub.status.busy": "2021-06-20T15:52:19.300979Z",
     "iopub.status.idle": "2021-06-20T15:52:20.366841Z",
     "shell.execute_reply": "2021-06-20T15:52:20.366052Z",
     "shell.execute_reply.started": "2021-06-20T15:52:19.301261Z"
    },
    "id": "v79sxDBUaQTn",
    "outputId": "0713cfb1-9d39-4ff7-c2c7-350a79b7fa31"
   },
   "outputs": [
    {
     "name": "stderr",
     "output_type": "stream",
     "text": [
      "Some layers from the model checkpoint at HooshvareLab/distilbert-fa-zwnj-base were not used when initializing TFDistilBertForSequenceClassification: ['vocab_layer_norm', 'vocab_transform', 'activation', 'vocab_projector']\n",
      "- This IS expected if you are initializing TFDistilBertForSequenceClassification from the checkpoint of a model trained on another task or with another architecture (e.g. initializing a BertForSequenceClassification model from a BertForPreTraining model).\n",
      "- This IS NOT expected if you are initializing TFDistilBertForSequenceClassification from the checkpoint of a model that you expect to be exactly identical (initializing a BertForSequenceClassification model from a BertForSequenceClassification model).\n",
      "Some layers of TFDistilBertForSequenceClassification were not initialized from the model checkpoint at HooshvareLab/distilbert-fa-zwnj-base and are newly initialized: ['dropout_115', 'classifier', 'pre_classifier']\n",
      "You should probably TRAIN this model on a down-stream task to be able to use it for predictions and inference.\n"
     ]
    }
   ],
   "source": [
    "from transformers import TFBertForSequenceClassification\n",
    "\n",
    "model = TFBertForSequenceClassification.from_pretrained(\"HooshvareLab/bert-fa-base-uncased\", config=config)"
   ]
  },
  {
   "cell_type": "code",
   "execution_count": 78,
   "metadata": {
    "execution": {
     "iopub.execute_input": "2021-06-20T15:58:15.770141Z",
     "iopub.status.busy": "2021-06-20T15:58:15.769769Z",
     "iopub.status.idle": "2021-06-20T16:12:51.265502Z",
     "shell.execute_reply": "2021-06-20T16:12:51.264728Z",
     "shell.execute_reply.started": "2021-06-20T15:58:15.770108Z"
    },
    "id": "nGinMpF0iXMA",
    "outputId": "bb27371e-807b-47dc-db09-f230b586327e"
   },
   "outputs": [
    {
     "name": "stdout",
     "output_type": "stream",
     "text": [
      "Epoch 1/2\n",
      "4501/4501 [==============================] - 443s 97ms/step - loss: 1.0457 - sparse_categorical_accuracy: 0.6316 - val_loss: 0.8397 - val_sparse_categorical_accuracy: 0.7103\n",
      "Epoch 2/2\n",
      "4501/4501 [==============================] - 432s 96ms/step - loss: 0.6505 - sparse_categorical_accuracy: 0.7748 - val_loss: 0.8315 - val_sparse_categorical_accuracy: 0.7282\n"
     ]
    },
    {
     "data": {
      "text/plain": [
       "<tensorflow.python.keras.callbacks.History at 0x7f6b7a6faed0>"
      ]
     },
     "execution_count": 78,
     "metadata": {},
     "output_type": "execute_result"
    }
   ],
   "source": [
    "#checkPointer = tf.keras.callbacks.ModelCheckpoint('./best_model.hdf5', save_best_only=True, monitor='val_loss', mode='auto')\n",
    "model.compile(\n",
    "    optimizer=tf.keras.optimizers.Adam(learning_rate=4e-5),\n",
    "    loss=tf.keras.losses.SparseCategoricalCrossentropy(from_logits=True),\n",
    "    metrics=tf.metrics.SparseCategoricalAccuracy(),\n",
    ")\n",
    "\n",
    "model.fit(train_tf_dataset, validation_data=valid_tf_dataset, epochs=2)"
   ]
  },
  {
   "cell_type": "code",
   "execution_count": 79,
   "metadata": {
    "execution": {
     "iopub.execute_input": "2021-06-20T16:13:31.258156Z",
     "iopub.status.busy": "2021-06-20T16:13:31.257798Z",
     "iopub.status.idle": "2021-06-20T16:13:32.034705Z",
     "shell.execute_reply": "2021-06-20T16:13:32.033782Z",
     "shell.execute_reply.started": "2021-06-20T16:13:31.258124Z"
    },
    "id": "fKFqEghcE9m6"
   },
   "outputs": [],
   "source": [
    "test_features = {x: tf.convert_to_tensor(list(df_test_final[x])) for x in tokenizer.model_input_names}\n",
    "test_tf_dataset = tf.data.Dataset.from_tensor_slices(test_features)\n",
    "test_tf_dataset = test_tf_dataset.batch(8)"
   ]
  },
  {
   "cell_type": "code",
   "execution_count": 80,
   "metadata": {
    "execution": {
     "iopub.execute_input": "2021-06-20T16:13:38.173523Z",
     "iopub.status.busy": "2021-06-20T16:13:38.173198Z",
     "iopub.status.idle": "2021-06-20T16:14:19.854089Z",
     "shell.execute_reply": "2021-06-20T16:14:19.853140Z",
     "shell.execute_reply.started": "2021-06-20T16:13:38.173490Z"
    },
    "id": "rH8of1jg9nXZ"
   },
   "outputs": [],
   "source": [
    "predictions = model.predict(test_tf_dataset)\n",
    "output = df_test.copy()\n",
    "output['label'] = np.argmax(predictions[0], axis=1)\n",
    "result = pd.DataFrame(output, columns=['app_id','label'])\n",
    "result.to_csv('./prediction.csv', index=False)"
   ]
  },
  {
   "cell_type": "code",
   "execution_count": null,
   "metadata": {
    "id": "rfs4vjxDOaw2"
   },
   "outputs": [],
   "source": [
    "model.save_pretrained(\"./model_clf_bert\")"
   ]
  },
  {
   "cell_type": "code",
   "execution_count": null,
   "metadata": {
    "id": "oKwYDOjRO51M",
    "outputId": "ee2ad575-d7bc-44e3-a4a1-f9c626a45959"
   },
   "outputs": [],
   "source": [
    "!zip -r model.zip './model_clf_bert/'"
   ]
  }
 ],
 "metadata": {
  "kernelspec": {
   "display_name": "Python 3",
   "language": "python",
   "name": "python3"
  },
  "language_info": {
   "codemirror_mode": {
    "name": "ipython",
    "version": 3
   },
   "file_extension": ".py",
   "mimetype": "text/x-python",
   "name": "python",
   "nbconvert_exporter": "python",
   "pygments_lexer": "ipython3",
   "version": "3.9.0"
  }
 },
 "nbformat": 4,
 "nbformat_minor": 4
}
